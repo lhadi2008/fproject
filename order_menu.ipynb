{
 "cells": [
  {
   "cell_type": "code",
   "execution_count": 37,
   "metadata": {},
   "outputs": [],
   "source": [
    "from selenium import webdriver\n",
    "from time import sleep\n",
    "from selenium.webdriver.common.by import By\n",
    "from selenium.common.exceptions import TimeoutException"
   ]
  },
  {
   "cell_type": "markdown",
   "metadata": {},
   "source": [
    "Selenium WebDriver est utilisé pour automatiser les interactions avec les navigateurs web, offrant des fonctionnalités pour contrôler les actions telles que la navigation, le remplissage de formulaires et le clic sur des éléments.\n",
    "\n",
    "\"time.sleep()\" permet d'introduire des délais dans le script, ce qui est utile pour synchroniser les actions ou attendre que des éléments se chargent avant d'interagir avec eux dans les scripts d'automatisation.\n",
    "\n",
    "Les modules \"By\" de Selenium offrent des fonctionnalités pour localiser des éléments sur une page web via des stratégies de recherche"
   ]
  },
  {
   "cell_type": "code",
   "execution_count": 38,
   "metadata": {},
   "outputs": [],
   "source": [
    "def initialize_browser():\n",
    "    return webdriver.Firefox()\n",
    "\n",
    "def navigate_to_jumia_food(browser, url):\n",
    "    browser.get(url)"
   ]
  },
  {
   "cell_type": "markdown",
   "metadata": {},
   "source": [
    "initialize_browser() :\n",
    "Initialise et retourne un WebDriver Firefox pour l'automatisation du navigateur.\n",
    "\n",
    "navigate_to_jumia_food(browser, url) :\n",
    "\n",
    "Navigue le navigateur fourni vers l'URL spécifiée pour Jumia Food."
   ]
  },
  {
   "cell_type": "code",
   "execution_count": 39,
   "metadata": {},
   "outputs": [],
   "source": [
    "def enter_delivery_adress(browser, address):\n",
    "    adress = browser.find_element(By.XPATH, '/html/body/section/main/main/div[2]/div/main/section/div[1]/div/div[2]/div[1]/input')\n",
    "    adress.send_keys(address)\n",
    "    sleep(6)\n",
    "    adress.click()"
   ]
  },
  {
   "cell_type": "markdown",
   "metadata": {},
   "source": [
    "Cette fonction enter_delivery_address() localise l'élément d'entrée où l'utilisateur peut saisir l'adresse de livraison sur la page de Jumia Food, saisit ensuite l'adresse fournie, puis effectue un clic pour valider l'entrée."
   ]
  },
  {
   "cell_type": "code",
   "execution_count": 40,
   "metadata": {},
   "outputs": [],
   "source": [
    "def click_search_and_show_results(browser):\n",
    "    click_search = browser.find_element(By.XPATH, '/html/body/section/main/main/div[2]/div/main/section/div[1]/div/div[2]/div[2]/div[1]')\n",
    "    click_search.click()\n",
    "    sleep(3)  # Adding a sleep to wait for the results to load (you may adjust as needed)\n",
    "\n",
    "    click_sear = browser.find_element(By.XPATH, '/html/body/section/main/main/div[2]/div/main/section/div[1]/button')\n",
    "    click_sear.click()\n",
    "    sleep(10)  # Waiting for the results to be displayed (adjust if needed)"
   ]
  },
  {
   "cell_type": "markdown",
   "metadata": {},
   "source": [
    "click_search_and_show_results(browser) :\n",
    "Clique sur le bouton de recherche et affiche les résultats des restaurants de la recherche sur la page web de Jumia Food."
   ]
  },
  {
   "cell_type": "code",
   "execution_count": 41,
   "metadata": {},
   "outputs": [],
   "source": [
    "def select_restaurant(browser):\n",
    "    element = browser.find_element(By.XPATH, '/html/body/section/main/main/div/section[2]/div[3]/div/article[1]/a')\n",
    "    element.click()\n",
    "    sleep(10)"
   ]
  },
  {
   "cell_type": "markdown",
   "metadata": {},
   "source": [
    "select_Mcdonald(browser) :\n",
    "Sélectionne le fast food Mcdo  sur la page web de Jumia Food"
   ]
  },
  {
   "cell_type": "code",
   "execution_count": 42,
   "metadata": {},
   "outputs": [],
   "source": [
    "def select_menu_options(browser):\n",
    "    click_burger_options = browser.find_element(By.XPATH, '/html/body/section/main/main/div/div/div[2]/section/div/div/section/section[1]/section/article/div/div[1]/div/a/span[2]')\n",
    "    click_burger_options.click()\n",
    "    sleep(5)\n",
    "\n",
    "    # Example of selecting burger options (repeated clicks on different options)\n",
    "    options = [\n",
    "        '/html/body/section/main/main/div[2]/div/main/section/form/div/div[1]/div/div[1]/div[1]/label',\n",
    "        '/html/body/section/main/main/div[2]/div/main/section/form/div/div[2]/div/div[1]/div[1]/label',\n",
    "        '/html/body/section/main/main/div[2]/div/main/section/form/div/div[3]/div/div[1]/div[1]/label'\n",
    "    ]\n",
    "    for option in options:\n",
    "        click_burger_option = browser.find_element(By.XPATH, option)\n",
    "        click_burger_option.click()\n",
    "        sleep(2)"
   ]
  },
  {
   "cell_type": "markdown",
   "metadata": {},
   "source": [
    "select_burger_options(browser) :\n",
    "Ouvre les options de burger et sélectionne de manière itérative différentes options relatives à un article de burger.comme par exemple: Le choix de la sauce,de la limonade, ou de la salade."
   ]
  },
  {
   "cell_type": "code",
   "execution_count": 43,
   "metadata": {},
   "outputs": [],
   "source": [
    "def order_menu(browser):\n",
    "    click_order = browser.find_element(By.XPATH, '/html/body/section/main/main/div[2]/div/footer/div/button')\n",
    "    click_order.click()\n",
    "    sleep(3)"
   ]
  },
  {
   "cell_type": "markdown",
   "metadata": {},
   "source": [
    "order_burger(browser) :\n",
    "Clique sur le bouton de commande et confirme la commande pour le burger Mcdo selectionee sur le site web de Jumia Food."
   ]
  },
  {
   "cell_type": "code",
   "execution_count": 44,
   "metadata": {},
   "outputs": [],
   "source": [
    "browser = initialize_browser()\n",
    "url = 'https://food.jumia.ma/restaurants'\n",
    "navigate_to_jumia_food(browser,url)\n",
    "enter_delivery_adress(browser,'GOMYCODE Rabat, l’immeuble BEL AIR, Rue Zalagh')\n",
    "click_search_and_show_results(browser)\n",
    "select_restaurant(browser)\n",
    "select_menu_options(browser)\n",
    "order_menu(browser)\n"
   ]
  },
  {
   "cell_type": "markdown",
   "metadata": {},
   "source": [
    "Execute toutes les fonctions "
   ]
  }
 ],
 "metadata": {
  "kernelspec": {
   "display_name": "Python 3",
   "language": "python",
   "name": "python3"
  },
  "language_info": {
   "codemirror_mode": {
    "name": "ipython",
    "version": 3
   },
   "file_extension": ".py",
   "mimetype": "text/x-python",
   "name": "python",
   "nbconvert_exporter": "python",
   "pygments_lexer": "ipython3",
   "version": "3.11.6"
  }
 },
 "nbformat": 4,
 "nbformat_minor": 2
}
